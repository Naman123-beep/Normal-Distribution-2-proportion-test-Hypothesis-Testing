{
 "cells": [
  {
   "cell_type": "code",
   "execution_count": 2,
   "id": "b493ed8f",
   "metadata": {},
   "outputs": [],
   "source": [
    "from scipy import stats\n",
    "import pandas as pd\n"
   ]
  },
  {
   "cell_type": "code",
   "execution_count": 2,
   "id": "ffb309ab",
   "metadata": {},
   "outputs": [
    {
     "data": {
      "text/plain": [
       "5.83828759269746e-05"
      ]
     },
     "execution_count": 2,
     "metadata": {},
     "output_type": "execute_result"
    }
   ],
   "source": [
    "2*stats.t.cdf(-4.4,49)"
   ]
  },
  {
   "cell_type": "code",
   "execution_count": 3,
   "id": "9f66d812",
   "metadata": {},
   "outputs": [
    {
     "data": {
      "text/plain": [
       "0.16781331091681306"
      ]
     },
     "execution_count": 3,
     "metadata": {},
     "output_type": "execute_result"
    }
   ],
   "source": [
    "2*stats.t.cdf(-1.4,49)"
   ]
  },
  {
   "cell_type": "code",
   "execution_count": 4,
   "id": "2090d4e6",
   "metadata": {},
   "outputs": [
    {
     "data": {
      "text/plain": [
       "0.0002134804891454246"
      ]
     },
     "execution_count": 4,
     "metadata": {},
     "output_type": "execute_result"
    }
   ],
   "source": [
    "2*stats.t.cdf(-4,49)"
   ]
  },
  {
   "cell_type": "code",
   "execution_count": 5,
   "id": "1b57ce8c",
   "metadata": {},
   "outputs": [
    {
     "data": {
      "text/plain": [
       "3.252294773257831e-09"
      ]
     },
     "execution_count": 5,
     "metadata": {},
     "output_type": "execute_result"
    }
   ],
   "source": [
    "2*stats.t.cdf(-7.2,49)"
   ]
  },
  {
   "cell_type": "code",
   "execution_count": 6,
   "id": "6959cd44",
   "metadata": {},
   "outputs": [
    {
     "data": {
      "text/plain": [
       "0.00015507793679663245"
      ]
     },
     "execution_count": 6,
     "metadata": {},
     "output_type": "execute_result"
    }
   ],
   "source": [
    "2*stats.t.cdf(-4.1,49)"
   ]
  },
  {
   "cell_type": "code",
   "execution_count": 9,
   "id": "7357e2ca",
   "metadata": {},
   "outputs": [],
   "source": [
    "data =pd.Series([0.593, 0.142, 0.329, 0.691, 0.231, 0.793, 0.519, 0.392, 0.418])"
   ]
  },
  {
   "cell_type": "code",
   "execution_count": 10,
   "id": "627d7c6a",
   "metadata": {},
   "outputs": [
    {
     "data": {
      "text/plain": [
       "0    0.593\n",
       "1    0.142\n",
       "2    0.329\n",
       "3    0.691\n",
       "4    0.231\n",
       "5    0.793\n",
       "6    0.519\n",
       "7    0.392\n",
       "8    0.418\n",
       "dtype: float64"
      ]
     },
     "execution_count": 10,
     "metadata": {},
     "output_type": "execute_result"
    }
   ],
   "source": [
    "data"
   ]
  },
  {
   "cell_type": "code",
   "execution_count": 12,
   "id": "6abd8066",
   "metadata": {},
   "outputs": [
    {
     "data": {
      "text/plain": [
       "Ttest_1sampResult(statistic=2.2050588385131595, pvalue=0.05853032968489765)"
      ]
     },
     "execution_count": 12,
     "metadata": {},
     "output_type": "execute_result"
    }
   ],
   "source": [
    "stats.ttest_1samp(data,0.3)  #[1]"
   ]
  },
  {
   "cell_type": "code",
   "execution_count": 14,
   "id": "03e89d48",
   "metadata": {},
   "outputs": [
    {
     "data": {
      "text/plain": [
       "0.029265164842448826"
      ]
     },
     "execution_count": 14,
     "metadata": {},
     "output_type": "execute_result"
    }
   ],
   "source": [
    "p=stats.ttest_1samp(data,0.3)[1]\n",
    "p_value= p/2\n",
    "p_value\n",
    "\n",
    "#this gives two tail test p value so divided by 2 to get P-value"
   ]
  },
  {
   "cell_type": "code",
   "execution_count": 3,
   "id": "5a7e73b7",
   "metadata": {},
   "outputs": [
    {
     "data": {
      "text/plain": [
       "0.006272124350809803"
      ]
     },
     "execution_count": 3,
     "metadata": {},
     "output_type": "execute_result"
    }
   ],
   "source": [
    "Control = pd.Series([91, 87,99, 77, 88,91])\n",
    "Treat =pd.Series([101, 110, 103, 93, 99, 104])\n",
    "stats.ttest_ind(Control,Treat)[1]"
   ]
  },
  {
   "cell_type": "markdown",
   "id": "34a346a3",
   "metadata": {},
   "source": [
    "# as p value is less than alpha or 0.05, we reject null hypothesis"
   ]
  },
  {
   "cell_type": "code",
   "execution_count": null,
   "id": "cbda7a9d",
   "metadata": {},
   "outputs": [],
   "source": []
  }
 ],
 "metadata": {
  "kernelspec": {
   "display_name": "Python 3 (ipykernel)",
   "language": "python",
   "name": "python3"
  },
  "language_info": {
   "codemirror_mode": {
    "name": "ipython",
    "version": 3
   },
   "file_extension": ".py",
   "mimetype": "text/x-python",
   "name": "python",
   "nbconvert_exporter": "python",
   "pygments_lexer": "ipython3",
   "version": "3.9.12"
  }
 },
 "nbformat": 4,
 "nbformat_minor": 5
}
